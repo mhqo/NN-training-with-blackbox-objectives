{
 "cells": [
  {
   "cell_type": "code",
   "execution_count": 1,
   "id": "f771b814",
   "metadata": {},
   "outputs": [],
   "source": [
    "from sklearn.datasets import load_iris\n",
    "from typing import *\n",
    "\n",
    "import torch\n",
    "import matplotlib.pyplot as plt\n",
    "\n",
    "%matplotlib inline"
   ]
  },
  {
   "cell_type": "code",
   "execution_count": 2,
   "id": "2f506b1f",
   "metadata": {},
   "outputs": [],
   "source": [
    "# some dataset we want to train on\n",
    "# since this is a minimal example we do not care about test train splits\n",
    "x, y = load_iris(return_X_y=True)\n",
    "x = torch.from_numpy(x).float()\n",
    "y = torch.from_numpy(y).long()"
   ]
  },
  {
   "cell_type": "markdown",
   "id": "1fc6e8c2",
   "metadata": {},
   "source": [
    "# Some blackbox function\n",
    "The info calculated in the function may come frome anywhere."
   ]
  },
  {
   "cell_type": "code",
   "execution_count": 3,
   "id": "ee865900",
   "metadata": {},
   "outputs": [],
   "source": [
    "def have_all_weights_around_abs_5(net_params: torch.Tensor):\n",
    "    ''' An arbitrary quality function `L_{bb} `\n",
    "    asking the network weights to be distributed closely around -5 and 5.\n",
    "    The function does not provide a gradient.\n",
    "    '''\n",
    "    with torch.no_grad(): # ensure no gradient (again!)\n",
    "        return torch.linalg.norm(net_params.abs() - 5)"
   ]
  },
  {
   "cell_type": "markdown",
   "id": "1cbc0691",
   "metadata": {},
   "source": [
    "## Estimating gradients through a blackbox\n",
    "\n",
    "Given a neural network with parameters $\\theta$, a network should be trained given a (white-box) loss function $L_{wb}(\\theta)$ (e.g., Cross entropy). \n",
    "\n",
    "Additionally, some black-box loss function $L_{bb}(\\theta)$ expresses additional preferences about the solution or training result .\n",
    "\n",
    "A classical training objective would be\n",
    "$$ \\min_\\theta \\; L = L_{wb}(\\theta) + \\lambda L_{bb}(\\theta), \\quad \\lambda \\in \\mathcal{R}^+$$ \n",
    "Unfortunately, since $L_{bb}(\\theta) $ is a $\\textbf{black-box}$, we cannot optimize this objective with gradient-based methods.\n",
    "\n",
    "However, if we assume $\\theta \\sim p(\\theta; \\mu) = \\mathcal{N}(\\mu, \\sigma^2\\cdot I) $ with $\\sigma$ fixed (hyperparameter) and change the training objective to \n",
    "$$\\min_\\mu  L(\\mu) + \\lambda \\int  L_{bb}(\\theta) p(\\theta; \\mu) \\; \\rm d \\theta, $$\n",
    "we can estimate gradients via the score function estimate (under some assumptions) by\n",
    "\n",
    "\\begin{align}\n",
    "& \\nabla_\\mu L_{wb}(\\mu) + \\lambda \\nabla_\\mu \\int L_{bb}(\\theta) \\;  p(\\theta; \\mu) \\; \\rm d \\theta \\\\\n",
    "=&  \\nabla_\\mu L_{wb}(\\mu) + \\lambda \\int L_{bb}(\\theta) \\; \\nabla_\\mu p(\\theta; \\mu) \\; \\rm d \\theta  &\\text{assumption (unbounded support of p($\\theta$),} \\dots) \\\\\n",
    "=& \\nabla_\\mu L_{wb}(\\mu) + \\lambda \\int L_{bb}(\\theta) \\; \\nabla_\\mu \\ln p(\\theta; \\mu) \\; p(\\theta; \\mu) \\; \\rm d \\theta \\quad &\\text{score function estimate (reinforce)} \\\\\n",
    "\\approx& \\nabla_\\mu L_{wb}(\\mu) + \\frac{\\lambda}{n} \\sum_n  L_{bb}( \\theta^{(n)}) \\; \\nabla_\\mu \\ln p( \\theta^{(n)}; \\mu) \\quad \\text{with} \\quad  \\theta^{(n)} \\sim p( \\theta; \\mu) \\\\\n",
    "\\end{align}"
   ]
  },
  {
   "cell_type": "code",
   "execution_count": 4,
   "id": "768761b9",
   "metadata": {},
   "outputs": [],
   "source": [
    "from gradient_estimation import BlackboxGradientEstimator\n",
    "\n",
    "# This will estimate the gradient for L_bb\n",
    "grad_estimator = BlackboxGradientEstimator(\n",
    "    black_box_function=have_all_weights_around_abs_5\n",
    ")\n",
    "\n",
    "def train_net(net_, bb_grad_estimation_args, epochs=10, lr=1e-3):\n",
    "    ''' \n",
    "    A network training function including gradient estimation\n",
    "    for the blackbox loss function.\n",
    "    '''\n",
    "    \n",
    "    opt = torch.optim.Adam(net_.parameters(), lr=lr)\n",
    "    L_wb = torch.nn.CrossEntropyLoss()\n",
    "    \n",
    "    # just for tracking\n",
    "    L_wb_s = []\n",
    "    L_bb_s = []\n",
    "    \n",
    "    \n",
    "    for _ in range(epochs):\n",
    "        opt.zero_grad()\n",
    "        \n",
    "        # basic dl_wb/dparams\n",
    "        diff_loss = L_wb(net_(x), y)\n",
    "        diff_loss.backward()\n",
    "        \n",
    "        # estimate gradient of blackbox\n",
    "        grad_estimator.add_estimated_grad_to_network(\n",
    "            network=net_, **bb_grad_estimation_args\n",
    "        )\n",
    "        \n",
    "        # just for tracking progress\n",
    "        L_wb_s.append(diff_loss.item())\n",
    "        current_params = torch.cat([p.flatten() for p in net_.parameters()])\n",
    "        L_bb_s.append(\n",
    "            grad_estimator.black_box_function(current_params).item())\n",
    "            \n",
    "        opt.step()\n",
    "        \n",
    "    return net_, L_wb_s, L_bb_s"
   ]
  },
  {
   "cell_type": "code",
   "execution_count": 5,
   "id": "5e9ceeaf",
   "metadata": {
    "scrolled": false
   },
   "outputs": [],
   "source": [
    "torch.manual_seed(1)\n",
    "\n",
    "# some arbitrary NN\n",
    "n_neurons = 10\n",
    "net = torch.nn.Sequential(\n",
    "    torch.nn.Linear(4,n_neurons), torch.nn.SiLU(),\n",
    "    torch.nn.Linear(n_neurons, n_neurons), torch.nn.SiLU(),\n",
    "    torch.nn.Linear(n_neurons, 3)\n",
    ")\n",
    "\n",
    "# Arguments for the gradient estimation\n",
    "bb_grad_estimation_args = {\n",
    "    'num_samples' : 100,\n",
    "    'sigma' : 1.,\n",
    "    'bb_objective_coef' : 1, \n",
    "    'clip_norm' : 1.\n",
    "}\n",
    "\n",
    "# train network\n",
    "mynet, losses, obj_values = train_net(\n",
    "    net, bb_grad_estimation_args, epochs=1000, lr=1e-1)"
   ]
  },
  {
   "cell_type": "code",
   "execution_count": 6,
   "id": "73bed6c1",
   "metadata": {
    "scrolled": false
   },
   "outputs": [
    {
     "data": {
      "image/png": "[encoded data removed]",
      "text/plain": [
       "<Figure size 864x288 with 2 Axes>"
      ]
     },
     "metadata": {
      "needs_background": "light"
     },
     "output_type": "display_data"
    }
   ],
   "source": [
    "fig, ax = plt.subplots(1, 2, figsize=(12, 4))\n",
    "accuracy = round((net(x).argmax(1) == y).float().mean().item(),4)\n",
    "ax[0].plot(losses)\n",
    "ax[0].set_title('training loss $L_{wb}$ '+  f'(accuracy = {accuracy})')\n",
    "ax[1].plot(obj_values)\n",
    "ax[1].set_title('blackbox objective value $L_{bb}$')\n",
    "plt.tight_layout();"
   ]
  },
  {
   "cell_type": "code",
   "execution_count": 7,
   "id": "4b585cd7",
   "metadata": {},
   "outputs": [
    {
     "data": {
      "image/png": "[encoded data removed]",
      "text/plain": [
       "<Figure size 432x288 with 1 Axes>"
      ]
     },
     "metadata": {
      "needs_background": "light"
     },
     "output_type": "display_data"
    }
   ],
   "source": [
    "# As we can see, we reach a reasonable performance for \n",
    "# the black box Loss function L_{bb}.\n",
    "plt.hist(torch.cat([p.flatten() for p in net.parameters()]).detach().numpy())\n",
    "plt.title('distribution of parameters'); "
   ]
  }
 ],
 "metadata": {
  "kernelspec": {
   "display_name": "Python 3 (ipykernel)",
   "language": "python",
   "name": "python3"
  },
  "language_info": {
   "codemirror_mode": {
    "name": "ipython",
    "version": 3
   },
   "file_extension": ".py",
   "mimetype": "text/x-python",
   "name": "python",
   "nbconvert_exporter": "python",
   "pygments_lexer": "ipython3",
   "version": "3.9.6"
  }
 },
 "nbformat": 4,
 "nbformat_minor": 5
}
